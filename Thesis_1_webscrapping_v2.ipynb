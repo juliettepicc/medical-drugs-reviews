{
 "cells": [
  {
   "cell_type": "code",
   "execution_count": 1,
   "metadata": {},
   "outputs": [],
   "source": [
    "from urllib.request import urlopen as uReq\n",
    "import re\n",
    "import requests\n",
    "import bs4\n",
    "import pandas as pd\n",
    "from bs4 import BeautifulSoup\n",
    "import numpy as np\n",
    "from time import sleep\n",
    "from os.path import basename"
   ]
  },
  {
   "cell_type": "code",
   "execution_count": 2,
   "metadata": {},
   "outputs": [],
   "source": [
    "width_dict = {\"max-width:7%;\": \"1\", \"max-width:14%;\": \"2\", \"max-width:21%;\": \"3\", \n",
    "              \"max-width:28%;\": \"4\", \"max-width:35%;\": \"5\"} #1 being least 5 being most"
   ]
  },
  {
   "cell_type": "code",
   "execution_count": 3,
   "metadata": {},
   "outputs": [],
   "source": [
    "gender_dict = {\"Homme\": \"Male\", \"Femme\": \"Female\"}"
   ]
  },
  {
   "cell_type": "code",
   "execution_count": 4,
   "metadata": {},
   "outputs": [],
   "source": [
    "disease_dict = {\"Acné\": \"Acne\", \"Allergie\":\"Allergy\", \"Allergie acariens\":\"Dust mite allergy\", \"Asthme\":\"Asthma\",\n",
    "               \"Ampoules - cloques\":\"Blisters - blisters\", \"Angine de poitrine\":\"Angina pectoris\",\n",
    "               \"Angoisse / trouble panique\":\"Anxiety\", \"Arrêter de fumer\":\"Stop smoking\", \"Bronchite\":\"Bronchitis\",\n",
    "               \"Arthrite psoriatique\":\"Psoriatic arthritis\", \"Arthrose\":\"Osteoarthritis\", \"Brûlures\":\"Burns\",\n",
    "               \"Arthrose colonne vertébrale\":\"Spine osteoarthritis\", \"Cancer du sein\":\"Breast cancer\",\n",
    "               \"Céphalées\":\"Headache\", \"Cholestérol élevé\":\"High cholesterol\", \"Couperose\":\"Rosacea\",\n",
    "               \"Colite ulcéreuse\":\"Ulcerative colitis\", \"Crise cardiaque\":\"Heart attack\", \"Tremblements\":\"Tremors\",\n",
    "               \"Complications post-opératoires\":\"Post-operative complications\", \"Démangeaison\":\"Itching\",\n",
    "               \"Cycle menstruel irrégulier\":\"Irregular menstrual cycle\", \"Défaillance nerveuse\":\"Nerve failure\",\n",
    "               \"Dépression\":\"Depression\", \"Dépression post-natale\":\"Post-natal depression\", \"Thyroïde\":\"Thyroid\",\n",
    "               \"Dépression chronique\":\"Depression\", \"Diabète type 1\":\"Type 1 diabetes\", \"TDAH\":\"ADHD\",\n",
    "               \"Diabète type 2\":\"Type 2 diabetes\", \"Diabète type 3\":\"Type 3 diabetes\", \"Urticaire\":\"Urticaria\",\n",
    "               \"Troubles d'angoisse\":\"Anxiety\", \"Trouble stress post-traumatique\":\"Post-traumatic stress disorder\",\n",
    "               \"Trouble schizotypique\":\"Schizotypal disorder\", \"Trouble rythme cardiaque\":\"Heart rhythm disorder\",\n",
    "               \"Trouble obsessionnel compulsif (TOC)\":\"Obsessive Compulsive Disorder (OCD)\", \"Psychose\":\"Psychosis\",\n",
    "               \"Trouble bipolaire / trouble mani dépressif\":\"Bipolar disorder / manic depressive disorder\",\n",
    "               \"Thyroïde enlevée\":\"Thyroid removed\", \"Tension élevée\":\"High tension\", \"Sinusite\":\"Sinusitis\",\n",
    "               \"Spondylarthrite ankylosante\":\"Ankylosing spondylitis\", \"Schizophrénie\":\"Schizophrenia\",\n",
    "               \"Rhume des foins\":\"Hay fever\", \"Rhumatisme\":\"Rheumatism\", \"Retour d'âge\":\"Return of age\",\n",
    "               \"Pyélonéphrite\":\"Pyelonephritis\", \"Problèmes psychiques\":\"Psychic problems\", \"Otite\":\"Otitis\",\n",
    "               \"Problèmes cardiaques\":\"Heart problems\", \"Pouls élevé\":\"High pulse\", \"Pneumonie\":\"Pneumonia\",\n",
    "               \"Polyneuropathie\":\"Polyneuropathy\", \"Phobie sociale\":\"Social phobia\", \"Narcolepsie\":\"Narcolepsy\",\n",
    "               \"MST (maladies sexuellement transmissibles)\":\"STDs (sexually transmitted diseases)\",\n",
    "               \"Mise en place stérilet\":\"IUD insertion\", \"Maladie de Lyme - borréliose\":\"Lyme disease - borreliosis\",\n",
    "               \"Maladie de Graves\":\"Graves disease\", \"Maladie de Crohn\":\"Crohn's disease\", \"Insomnie\":\"Insomnia\",\n",
    "               \"Maladie d'Hashimoto\":\"Hashimoto's disease\", \"Maladie auto-immunitaire\":\"Autoimmune disease\",\n",
    "               \"Mal de gorge\":\"Sore throat\", \"Inflammation articulaire\":\"Joint inflammation\", \"Hernie\":\"Hernia\",\n",
    "               \"Infection urinaire\":\"Urinary tract infection\", \"Infection gencive\":\"Gum infection\", \"Fatigue\":\"Tired\",\n",
    "               \"Infection des amygdales\":\"Infection of the tonsils\", \"Infection de la prostate\":\"Prostate infection\",\n",
    "               \"Infection de la machoire\":\"Jaw infection\", \"Infection de l'estomac\":\"Stomach infection\",\n",
    "               \"Infection dans la poitrine\":\"Chest Infection\", \"Infection bactérienne\":\"Bacterial infection\",\n",
    "               \"Infection (plaie)\":\"Infection (wound)\", \"Glande thyroïde lente\":\"Slow thyroid gland\",\n",
    "               \"Glande thyroïde hyperactive\":\"Overactive thyroid gland\", \"Fibromyalgie\":\"Fibromyalgia\",\n",
    "               \"Épisode maniaque\":\"Manic episode\", \"Épilepsie\":\"Epilepsy\", \"Douleur, général\":\"Pain, general\",\n",
    "               \"Douleurs menstruation\":\"Menstruation pain\", \"Douleur articulaire\":\"Articular pain\",\n",
    "               \"Douleur nerveuse\":\"Nerve pain\", \"Hypothyroïdie\":\"Hypothyroidism\", \"Battements de coeur\": \"Heartbeats\",\n",
    "               \"Ablation de la thyroïde\":\"Thyroid removal\", \"Pas dans la liste\":\"Other\", \"Apnée\":\"Apnea\",\n",
    "               \"Tendinite épaule\":\"Shoulder tendinitis\", \"Alcoolisme\":\"Alcoholism\", \"Mal aux dents\":\"Toothache\",\n",
    "               \"Syndrome des jambes sans repos\":\"Restless legs syndrome\", \"Vertige - tournis\":\"Vertigo - spinning\",\n",
    "               \"Cholestérol trop élevé\":\"High cholesterol\",\"Crampes jambes\":\"Leg cramps\", \"Acidité\":\"Acidity\",\n",
    "               \"Effet indésirable d'un autre médicament\":\"Side effect of another medicine\", \"Attaque\":\"Attack\",\n",
    "               \"Anémie suite déficience vitamine B12\":\"Anemia\", \"Défaillances cardiaques\":\"Cardiac failures\",\n",
    "               \"Brûlure d'estomac - acidité gastrique\":\"Heartburn - gastric acidity\"}"
   ]
  },
  {
   "cell_type": "code",
   "execution_count": 5,
   "metadata": {},
   "outputs": [],
   "source": [
    "#we collect the urls 1-7 because other pages are not available\n",
    "url = 'https://www.meamedica.fr/glande-thyroide-hypothyroidie-a-action-lente/levothyrox'\n",
    "url = [url] + [url + '/' + str(i) for i in range(2, 8)]"
   ]
  },
  {
   "cell_type": "code",
   "execution_count": 6,
   "metadata": {},
   "outputs": [],
   "source": [
    "#We collect all pages for Levothyrox\n",
    "\n",
    "rx_dose = re.compile('\\((.*)\\)')\n",
    "\n",
    "rows = []\n",
    "for u in url:\n",
    "    html = requests.get(u).text\n",
    "    soup = BeautifulSoup(html, \"html.parser\")\n",
    "    for div_tag in soup.findAll('div', {'class': 'vote rounded btn-left'}): \n",
    "#note: there are some of these div_tag that contain boxes of text we do not want\n",
    "        row = {}\n",
    "        h3_tag = div_tag.find('h3')\n",
    "        if h3_tag is None:\n",
    "            continue #removes all the irrelevant <div class>:'vote rounded btn-left'\n",
    "        row['medicine'] = h3_tag.text.strip() #Picks up medicine name and assigns to row of that name\n",
    "        subtext_tag = div_tag.find('div', {'class': 'subText'}) \n",
    "        #div_tag contains multiple elements we want to store in different columns\n",
    "        subText = subtext_tag.text.split('\\r\\n') #use the \\ to seperate the information\n",
    "        var = subText[1].strip().split(' | ') #use the | to seperate the information\n",
    "        row['date'] = var[0] #takes first value in var\n",
    "        row['gender'] = var[1] #takes second value in var\n",
    "        row['age'] = var[2] if len(var)==3 else np.nan #takes third value in var\n",
    "        match = rx_dose.search(subText[3]) #takes fourth element of subText\n",
    "        row['dose'] = np.nan if match is None else match.group(1)\n",
    "        row['disease'] = subText[4].strip()\n",
    "        span_tag = div_tag.find('span', {'class': 'initial-text'}) #finds up the review in its div_tag\n",
    "        row['comment'] = span_tag.text if span_tag else ''\n",
    "        for span_tag in div_tag.findAll('span', {'style': 'width:65%'}): #finds the width % of the 4 little graphs\n",
    "            text = span_tag.text\n",
    "            img_tag = span_tag.next_sibling.next_sibling\n",
    "            row[text] = img_tag.attrs['style'] if img_tag else ''\n",
    "        rows.append(row)\n",
    "\n",
    "df = pd.DataFrame(rows)\n",
    "df['age']=df['age'].astype(float)\n",
    "df['age_range']=pd.cut(df['age'], [0,20,35,50,65,80,np.inf], labels = ['0-20','21-35','36-50','51-65','66-80','80+'])\n",
    "df['gender'].replace(gender_dict, inplace=True)\n",
    "df['disease'].replace(disease_dict, inplace=True)\n",
    "df[\"Efficacité\"].replace(width_dict, inplace=True)\n",
    "df[\"Quantité effets secondaires\"].replace(width_dict, inplace=True) \n",
    "df[\"Gravité effets secondaires\"].replace(width_dict, inplace=True)\n",
    "df[\"Facilité d'emploi\"].replace(width_dict, inplace=True)"
   ]
  },
  {
   "cell_type": "code",
   "execution_count": 21,
   "metadata": {},
   "outputs": [],
   "source": [
    "url = 'https://www.meamedica.fr/glande-thyroide-hypothyroidie-a-action-lente/levothyrox'\n",
    "\n",
    "def collect_data(url):\n",
    "    disease = basename.url\n",
    "    urls = [url] + [url + '/' + str(i) for i in range(2, 8)]"
   ]
  },
  {
   "cell_type": "code",
   "execution_count": 18,
   "metadata": {},
   "outputs": [
    {
     "data": {
      "text/plain": [
       "['https://www.meamedica.fr/glande-thyroide-hypothyroidie-a-action-lente/levothyrox',\n",
       " 'https://www.meamedica.fr/glande-thyroide-hypothyroidie-a-action-lente/levothyrox/2',\n",
       " 'https://www.meamedica.fr/glande-thyroide-hypothyroidie-a-action-lente/levothyrox/3',\n",
       " 'https://www.meamedica.fr/glande-thyroide-hypothyroidie-a-action-lente/levothyrox/4',\n",
       " 'https://www.meamedica.fr/glande-thyroide-hypothyroidie-a-action-lente/levothyrox/5',\n",
       " 'https://www.meamedica.fr/glande-thyroide-hypothyroidie-a-action-lente/levothyrox/6',\n",
       " 'https://www.meamedica.fr/glande-thyroide-hypothyroidie-a-action-lente/levothyrox/7']"
      ]
     },
     "execution_count": 18,
     "metadata": {},
     "output_type": "execute_result"
    }
   ],
   "source": [
    "urls = [url] + [url + '/' + str(i) for i in range(2, 8)]\n",
    "urls"
   ]
  },
  {
   "cell_type": "code",
   "execution_count": 22,
   "metadata": {},
   "outputs": [
    {
     "ename": "MissingSchema",
     "evalue": "Invalid URL 'h': No schema supplied. Perhaps you meant http://h?",
     "output_type": "error",
     "traceback": [
      "\u001b[0;31m---------------------------------------------------------------------------\u001b[0m",
      "\u001b[0;31mMissingSchema\u001b[0m                             Traceback (most recent call last)",
      "\u001b[0;32m<ipython-input-22-b982c46cc50c>\u001b[0m in \u001b[0;36m<module>\u001b[0;34m\u001b[0m\n\u001b[1;32m      3\u001b[0m \u001b[0mrows\u001b[0m \u001b[0;34m=\u001b[0m \u001b[0;34m[\u001b[0m\u001b[0;34m]\u001b[0m\u001b[0;34m\u001b[0m\u001b[0;34m\u001b[0m\u001b[0m\n\u001b[1;32m      4\u001b[0m \u001b[0;32mfor\u001b[0m \u001b[0mu\u001b[0m \u001b[0;32min\u001b[0m \u001b[0murl\u001b[0m\u001b[0;34m:\u001b[0m\u001b[0;34m\u001b[0m\u001b[0;34m\u001b[0m\u001b[0m\n\u001b[0;32m----> 5\u001b[0;31m     \u001b[0mhtml\u001b[0m \u001b[0;34m=\u001b[0m \u001b[0mrequests\u001b[0m\u001b[0;34m.\u001b[0m\u001b[0mget\u001b[0m\u001b[0;34m(\u001b[0m\u001b[0mu\u001b[0m\u001b[0;34m)\u001b[0m\u001b[0;34m.\u001b[0m\u001b[0mtext\u001b[0m\u001b[0;34m\u001b[0m\u001b[0;34m\u001b[0m\u001b[0m\n\u001b[0m\u001b[1;32m      6\u001b[0m     \u001b[0msoup\u001b[0m \u001b[0;34m=\u001b[0m \u001b[0mBeautifulSoup\u001b[0m\u001b[0;34m(\u001b[0m\u001b[0mhtml\u001b[0m\u001b[0;34m,\u001b[0m \u001b[0;34m\"html.parser\"\u001b[0m\u001b[0;34m)\u001b[0m\u001b[0;34m\u001b[0m\u001b[0;34m\u001b[0m\u001b[0m\n\u001b[1;32m      7\u001b[0m     \u001b[0;32mfor\u001b[0m \u001b[0mdiv_tag\u001b[0m \u001b[0;32min\u001b[0m \u001b[0msoup\u001b[0m\u001b[0;34m.\u001b[0m\u001b[0mfindAll\u001b[0m\u001b[0;34m(\u001b[0m\u001b[0;34m'div'\u001b[0m\u001b[0;34m,\u001b[0m \u001b[0;34m{\u001b[0m\u001b[0;34m'class'\u001b[0m\u001b[0;34m:\u001b[0m \u001b[0;34m'vote rounded btn-left'\u001b[0m\u001b[0;34m}\u001b[0m\u001b[0;34m)\u001b[0m\u001b[0;34m:\u001b[0m\u001b[0;34m\u001b[0m\u001b[0;34m\u001b[0m\u001b[0m\n",
      "\u001b[0;32m~/opt/anaconda3/lib/python3.7/site-packages/requests/api.py\u001b[0m in \u001b[0;36mget\u001b[0;34m(url, params, **kwargs)\u001b[0m\n\u001b[1;32m     73\u001b[0m \u001b[0;34m\u001b[0m\u001b[0m\n\u001b[1;32m     74\u001b[0m     \u001b[0mkwargs\u001b[0m\u001b[0;34m.\u001b[0m\u001b[0msetdefault\u001b[0m\u001b[0;34m(\u001b[0m\u001b[0;34m'allow_redirects'\u001b[0m\u001b[0;34m,\u001b[0m \u001b[0;32mTrue\u001b[0m\u001b[0;34m)\u001b[0m\u001b[0;34m\u001b[0m\u001b[0;34m\u001b[0m\u001b[0m\n\u001b[0;32m---> 75\u001b[0;31m     \u001b[0;32mreturn\u001b[0m \u001b[0mrequest\u001b[0m\u001b[0;34m(\u001b[0m\u001b[0;34m'get'\u001b[0m\u001b[0;34m,\u001b[0m \u001b[0murl\u001b[0m\u001b[0;34m,\u001b[0m \u001b[0mparams\u001b[0m\u001b[0;34m=\u001b[0m\u001b[0mparams\u001b[0m\u001b[0;34m,\u001b[0m \u001b[0;34m**\u001b[0m\u001b[0mkwargs\u001b[0m\u001b[0;34m)\u001b[0m\u001b[0;34m\u001b[0m\u001b[0;34m\u001b[0m\u001b[0m\n\u001b[0m\u001b[1;32m     76\u001b[0m \u001b[0;34m\u001b[0m\u001b[0m\n\u001b[1;32m     77\u001b[0m \u001b[0;34m\u001b[0m\u001b[0m\n",
      "\u001b[0;32m~/opt/anaconda3/lib/python3.7/site-packages/requests/api.py\u001b[0m in \u001b[0;36mrequest\u001b[0;34m(method, url, **kwargs)\u001b[0m\n\u001b[1;32m     58\u001b[0m     \u001b[0;31m# cases, and look like a memory leak in others.\u001b[0m\u001b[0;34m\u001b[0m\u001b[0;34m\u001b[0m\u001b[0;34m\u001b[0m\u001b[0m\n\u001b[1;32m     59\u001b[0m     \u001b[0;32mwith\u001b[0m \u001b[0msessions\u001b[0m\u001b[0;34m.\u001b[0m\u001b[0mSession\u001b[0m\u001b[0;34m(\u001b[0m\u001b[0;34m)\u001b[0m \u001b[0;32mas\u001b[0m \u001b[0msession\u001b[0m\u001b[0;34m:\u001b[0m\u001b[0;34m\u001b[0m\u001b[0;34m\u001b[0m\u001b[0m\n\u001b[0;32m---> 60\u001b[0;31m         \u001b[0;32mreturn\u001b[0m \u001b[0msession\u001b[0m\u001b[0;34m.\u001b[0m\u001b[0mrequest\u001b[0m\u001b[0;34m(\u001b[0m\u001b[0mmethod\u001b[0m\u001b[0;34m=\u001b[0m\u001b[0mmethod\u001b[0m\u001b[0;34m,\u001b[0m \u001b[0murl\u001b[0m\u001b[0;34m=\u001b[0m\u001b[0murl\u001b[0m\u001b[0;34m,\u001b[0m \u001b[0;34m**\u001b[0m\u001b[0mkwargs\u001b[0m\u001b[0;34m)\u001b[0m\u001b[0;34m\u001b[0m\u001b[0;34m\u001b[0m\u001b[0m\n\u001b[0m\u001b[1;32m     61\u001b[0m \u001b[0;34m\u001b[0m\u001b[0m\n\u001b[1;32m     62\u001b[0m \u001b[0;34m\u001b[0m\u001b[0m\n",
      "\u001b[0;32m~/opt/anaconda3/lib/python3.7/site-packages/requests/sessions.py\u001b[0m in \u001b[0;36mrequest\u001b[0;34m(self, method, url, params, data, headers, cookies, files, auth, timeout, allow_redirects, proxies, hooks, stream, verify, cert, json)\u001b[0m\n\u001b[1;32m    517\u001b[0m             \u001b[0mhooks\u001b[0m\u001b[0;34m=\u001b[0m\u001b[0mhooks\u001b[0m\u001b[0;34m,\u001b[0m\u001b[0;34m\u001b[0m\u001b[0;34m\u001b[0m\u001b[0m\n\u001b[1;32m    518\u001b[0m         )\n\u001b[0;32m--> 519\u001b[0;31m         \u001b[0mprep\u001b[0m \u001b[0;34m=\u001b[0m \u001b[0mself\u001b[0m\u001b[0;34m.\u001b[0m\u001b[0mprepare_request\u001b[0m\u001b[0;34m(\u001b[0m\u001b[0mreq\u001b[0m\u001b[0;34m)\u001b[0m\u001b[0;34m\u001b[0m\u001b[0;34m\u001b[0m\u001b[0m\n\u001b[0m\u001b[1;32m    520\u001b[0m \u001b[0;34m\u001b[0m\u001b[0m\n\u001b[1;32m    521\u001b[0m         \u001b[0mproxies\u001b[0m \u001b[0;34m=\u001b[0m \u001b[0mproxies\u001b[0m \u001b[0;32mor\u001b[0m \u001b[0;34m{\u001b[0m\u001b[0;34m}\u001b[0m\u001b[0;34m\u001b[0m\u001b[0;34m\u001b[0m\u001b[0m\n",
      "\u001b[0;32m~/opt/anaconda3/lib/python3.7/site-packages/requests/sessions.py\u001b[0m in \u001b[0;36mprepare_request\u001b[0;34m(self, request)\u001b[0m\n\u001b[1;32m    460\u001b[0m             \u001b[0mauth\u001b[0m\u001b[0;34m=\u001b[0m\u001b[0mmerge_setting\u001b[0m\u001b[0;34m(\u001b[0m\u001b[0mauth\u001b[0m\u001b[0;34m,\u001b[0m \u001b[0mself\u001b[0m\u001b[0;34m.\u001b[0m\u001b[0mauth\u001b[0m\u001b[0;34m)\u001b[0m\u001b[0;34m,\u001b[0m\u001b[0;34m\u001b[0m\u001b[0;34m\u001b[0m\u001b[0m\n\u001b[1;32m    461\u001b[0m             \u001b[0mcookies\u001b[0m\u001b[0;34m=\u001b[0m\u001b[0mmerged_cookies\u001b[0m\u001b[0;34m,\u001b[0m\u001b[0;34m\u001b[0m\u001b[0;34m\u001b[0m\u001b[0m\n\u001b[0;32m--> 462\u001b[0;31m             \u001b[0mhooks\u001b[0m\u001b[0;34m=\u001b[0m\u001b[0mmerge_hooks\u001b[0m\u001b[0;34m(\u001b[0m\u001b[0mrequest\u001b[0m\u001b[0;34m.\u001b[0m\u001b[0mhooks\u001b[0m\u001b[0;34m,\u001b[0m \u001b[0mself\u001b[0m\u001b[0;34m.\u001b[0m\u001b[0mhooks\u001b[0m\u001b[0;34m)\u001b[0m\u001b[0;34m,\u001b[0m\u001b[0;34m\u001b[0m\u001b[0;34m\u001b[0m\u001b[0m\n\u001b[0m\u001b[1;32m    463\u001b[0m         )\n\u001b[1;32m    464\u001b[0m         \u001b[0;32mreturn\u001b[0m \u001b[0mp\u001b[0m\u001b[0;34m\u001b[0m\u001b[0;34m\u001b[0m\u001b[0m\n",
      "\u001b[0;32m~/opt/anaconda3/lib/python3.7/site-packages/requests/models.py\u001b[0m in \u001b[0;36mprepare\u001b[0;34m(self, method, url, headers, files, data, params, auth, cookies, hooks, json)\u001b[0m\n\u001b[1;32m    311\u001b[0m \u001b[0;34m\u001b[0m\u001b[0m\n\u001b[1;32m    312\u001b[0m         \u001b[0mself\u001b[0m\u001b[0;34m.\u001b[0m\u001b[0mprepare_method\u001b[0m\u001b[0;34m(\u001b[0m\u001b[0mmethod\u001b[0m\u001b[0;34m)\u001b[0m\u001b[0;34m\u001b[0m\u001b[0;34m\u001b[0m\u001b[0m\n\u001b[0;32m--> 313\u001b[0;31m         \u001b[0mself\u001b[0m\u001b[0;34m.\u001b[0m\u001b[0mprepare_url\u001b[0m\u001b[0;34m(\u001b[0m\u001b[0murl\u001b[0m\u001b[0;34m,\u001b[0m \u001b[0mparams\u001b[0m\u001b[0;34m)\u001b[0m\u001b[0;34m\u001b[0m\u001b[0;34m\u001b[0m\u001b[0m\n\u001b[0m\u001b[1;32m    314\u001b[0m         \u001b[0mself\u001b[0m\u001b[0;34m.\u001b[0m\u001b[0mprepare_headers\u001b[0m\u001b[0;34m(\u001b[0m\u001b[0mheaders\u001b[0m\u001b[0;34m)\u001b[0m\u001b[0;34m\u001b[0m\u001b[0;34m\u001b[0m\u001b[0m\n\u001b[1;32m    315\u001b[0m         \u001b[0mself\u001b[0m\u001b[0;34m.\u001b[0m\u001b[0mprepare_cookies\u001b[0m\u001b[0;34m(\u001b[0m\u001b[0mcookies\u001b[0m\u001b[0;34m)\u001b[0m\u001b[0;34m\u001b[0m\u001b[0;34m\u001b[0m\u001b[0m\n",
      "\u001b[0;32m~/opt/anaconda3/lib/python3.7/site-packages/requests/models.py\u001b[0m in \u001b[0;36mprepare_url\u001b[0;34m(self, url, params)\u001b[0m\n\u001b[1;32m    385\u001b[0m             \u001b[0merror\u001b[0m \u001b[0;34m=\u001b[0m \u001b[0merror\u001b[0m\u001b[0;34m.\u001b[0m\u001b[0mformat\u001b[0m\u001b[0;34m(\u001b[0m\u001b[0mto_native_string\u001b[0m\u001b[0;34m(\u001b[0m\u001b[0murl\u001b[0m\u001b[0;34m,\u001b[0m \u001b[0;34m'utf8'\u001b[0m\u001b[0;34m)\u001b[0m\u001b[0;34m)\u001b[0m\u001b[0;34m\u001b[0m\u001b[0;34m\u001b[0m\u001b[0m\n\u001b[1;32m    386\u001b[0m \u001b[0;34m\u001b[0m\u001b[0m\n\u001b[0;32m--> 387\u001b[0;31m             \u001b[0;32mraise\u001b[0m \u001b[0mMissingSchema\u001b[0m\u001b[0;34m(\u001b[0m\u001b[0merror\u001b[0m\u001b[0;34m)\u001b[0m\u001b[0;34m\u001b[0m\u001b[0;34m\u001b[0m\u001b[0m\n\u001b[0m\u001b[1;32m    388\u001b[0m \u001b[0;34m\u001b[0m\u001b[0m\n\u001b[1;32m    389\u001b[0m         \u001b[0;32mif\u001b[0m \u001b[0;32mnot\u001b[0m \u001b[0mhost\u001b[0m\u001b[0;34m:\u001b[0m\u001b[0;34m\u001b[0m\u001b[0;34m\u001b[0m\u001b[0m\n",
      "\u001b[0;31mMissingSchema\u001b[0m: Invalid URL 'h': No schema supplied. Perhaps you meant http://h?"
     ]
    }
   ],
   "source": [
    "rx_dose = re.compile('\\((.*)\\)')\n",
    "\n",
    "rows = []\n",
    "for u in url:\n",
    "    html = requests.get(u).text\n",
    "    soup = BeautifulSoup(html, \"html.parser\")\n",
    "    for div_tag in soup.findAll('div', {'class': 'vote rounded btn-left'}): \n",
    "#note: there are some of these div_tag that contain boxes of text we do not want\n",
    "        row = {}\n",
    "        h3_tag = div_tag.find('h3')\n",
    "        if h3_tag is None:\n",
    "            continue #removes all the irrelevant <div class>:'vote rounded btn-left'\n",
    "        row['medicine'] = h3_tag.text.strip() #Picks up medicine name and assigns to row of that name\n",
    "        subtext_tag = div_tag.find('div', {'class': 'subText'}) \n",
    "        #div_tag contains multiple elements we want to store in different columns\n",
    "        subText = subtext_tag.text.split('\\r\\n') #use the \\ to seperate the information\n",
    "        var = subText[1].strip().split(' | ') #use the | to seperate the information\n",
    "        row['date'] = var[0] #takes first value in var\n",
    "        row['gender'] = var[1] #takes second value in var\n",
    "        row['age'] = var[2] if len(var)==3 else np.nan #takes third value in var\n",
    "        match = rx_dose.search(subText[3]) #takes fourth element of subText\n",
    "        row['dose'] = np.nan if match is None else match.group(1)\n",
    "        row['disease'] = subText[4].strip()\n",
    "        span_tag = div_tag.find('span', {'class': 'initial-text'}) #finds up the review in its div_tag\n",
    "        row['comment'] = span_tag.text if span_tag else ''\n",
    "        for span_tag in div_tag.findAll('span', {'style': 'width:65%'}): #finds the width % of the 4 little graphs\n",
    "            text = span_tag.text\n",
    "            img_tag = span_tag.next_sibling.next_sibling\n",
    "            row[text] = img_tag.attrs['style'] if img_tag else ''\n",
    "        rows.append(row)\n",
    "\n",
    "df = pd.DataFrame(rows)\n",
    "df['age']=df['age'].astype(float)\n",
    "df['age_range']=pd.cut(df['age'], [0,20,35,50,65,80,np.inf], labels = ['0-20','21-35','36-50','51-65','66-80','80+'])\n",
    "df['gender'].replace(gender_dict, inplace=True)\n",
    "df['disease'].replace(disease_dict, inplace=True)\n",
    "df[\"Efficacité\"].replace(width_dict, inplace=True)\n",
    "df[\"Quantité effets secondaires\"].replace(width_dict, inplace=True) \n",
    "df[\"Gravité effets secondaires\"].replace(width_dict, inplace=True)\n",
    "df[\"Facilité d'emploi\"].replace(width_dict, inplace=True)"
   ]
  },
  {
   "cell_type": "code",
   "execution_count": null,
   "metadata": {},
   "outputs": [],
   "source": [
    "df = df.rename(columns={\"Efficacité\": \"efficiency\", \"Quantité effets secondaires\": \"quantity_of_secondary_effects\", \n",
    "                   \"Gravité effets secondaires\": \"severity_of_secondary_effects\", \"Facilité d'emploi\": \"ease_of_use\"})"
   ]
  },
  {
   "cell_type": "code",
   "execution_count": null,
   "metadata": {},
   "outputs": [],
   "source": [
    "df\n",
    "#f\"Population Pyramid for {medicine}\""
   ]
  },
  {
   "cell_type": "code",
   "execution_count": null,
   "metadata": {},
   "outputs": [],
   "source": [
    "df.to_csv('test.csv') #we store the dataframe in a csv file"
   ]
  }
 ],
 "metadata": {
  "kernelspec": {
   "display_name": "Python 3",
   "language": "python",
   "name": "python3"
  },
  "language_info": {
   "codemirror_mode": {
    "name": "ipython",
    "version": 3
   },
   "file_extension": ".py",
   "mimetype": "text/x-python",
   "name": "python",
   "nbconvert_exporter": "python",
   "pygments_lexer": "ipython3",
   "version": "3.7.4"
  }
 },
 "nbformat": 4,
 "nbformat_minor": 2
}
